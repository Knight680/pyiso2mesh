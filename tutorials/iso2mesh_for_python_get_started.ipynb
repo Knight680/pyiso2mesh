{
  "nbformat": 4,
  "nbformat_minor": 0,
  "metadata": {
    "colab": {
      "provenance": [],
      "toc_visible": true
    },
    "kernelspec": {
      "name": "python3",
      "display_name": "Python 3"
    },
    "language_info": {
      "name": "python"
    }
  },
  "cells": [
    {
      "cell_type": "markdown",
      "source": [
        "![](https://iso2mesh.sourceforge.net/images/iso2mesh_2015_banner.png)"
      ],
      "metadata": {
        "id": "LiDMhajngfYg"
      }
    },
    {
      "cell_type": "markdown",
      "source": [
        "# Pyiso2mesh - One-liner 3-D mesh generator for Python\n",
        "\n",
        "* **Copyright**: (C) Qianqian Fang (2024-2025) <q.fang at neu.edu>\n",
        "* **License**: GNU Public License V3 or later\n",
        "* **URL**: [https://pypi.org/project/iso2mesh/](https://pypi.org/project/iso2mesh/)\n",
        "* **Homepage**: [https://iso2mesh.sf.net](https://iso2mesh.sf.net)\n",
        "* **Github**: [https://github.com/NeuroJSON/pyiso2mesh](https://github.com/NeuroJSON/pyiso2mesh)\n",
        "* **Acknowledgement**: This project is supported by the US National Institute of Health (NIH)\n",
        "  grants [U24-NS124027](https://reporter.nih.gov/project-details/10308329) and\n",
        "  [R01-CA204443](https://reporter.nih.gov/project-details/10982160)"
      ],
      "metadata": {
        "id": "lj0kyISUXzp2"
      }
    },
    {
      "cell_type": "markdown",
      "source": [
        "Iso2Mesh is a versatile 3D mesh generation toolbox, originally developed for MATLAB and GNU Octave in 2007. It is designed for the easy creation of high-quality surface and tetrahedral meshes from 3D volumetric images. It includes over 200 mesh processing scripts and programs, which can operate independently or in conjunction with external open-source meshing tools. The Iso2Mesh toolbox can directly convert 3-D image stacks—including binary, segmented, or grayscale images such as MRI or CT scans—into high-quality volumetric meshes. This makes it especially suitable for multi-modality medical imaging data analysis and multi-physics modeling.\n",
        "\n",
        "The iso2mesh Python module provides a re-implementation of Iso2Mesh in the native Python language, following algorithms similar to those in the MATLAB/Octave versions of Iso2Mesh."
      ],
      "metadata": {
        "id": "JUNz6Bjvl0Em"
      }
    },
    {
      "cell_type": "markdown",
      "source": [
        "## [📥] Installation"
      ],
      "metadata": {
        "id": "u4PvRM_nmAqL"
      }
    },
    {
      "cell_type": "code",
      "execution_count": null,
      "metadata": {
        "id": "GNE6RpKEXyqa"
      },
      "outputs": [],
      "source": [
        "!pip install iso2mesh jdata"
      ]
    },
    {
      "cell_type": "markdown",
      "source": [
        "## [◎] Creating meshes from simple geometries"
      ],
      "metadata": {
        "id": "mh0p6FoIYete"
      }
    },
    {
      "cell_type": "markdown",
      "source": [
        "### 🧊 Box\n",
        "\n",
        "Running iso2mesh for the first time may need to download additional meshing utilities from Github. These utilities include [Tetgen](https://wias-berlin.de/software/tetgen/), [CGAL tools](https://www.cgal.org/), [cork](https://github.com/gilbo/cork), and [meshfix](https://github.com/MarcoAttene/MeshFix-V2.1). This usually only takes a few seconds, with about 20-30MB disk space.\n",
        "\n",
        "This only needs to run once at the beginning. These downloaded meshing utilities are stored under the `$HOME/iso2mesh-tools/` folder."
      ],
      "metadata": {
        "id": "v_BOamn5a4vD"
      }
    },
    {
      "cell_type": "code",
      "source": [
        "import iso2mesh as i2m\n",
        "import numpy as np\n",
        "import matplotlib.pyplot as plt\n",
        "\n",
        "no, fc, el = i2m.meshabox([0, 0, 0], [30, 20, 10], 1, 20)\n",
        "\n",
        "i2m.plotmesh(no, fc, 'y > 10')"
      ],
      "metadata": {
        "id": "iBZWSNgkYCKh"
      },
      "execution_count": null,
      "outputs": []
    },
    {
      "cell_type": "markdown",
      "source": [
        "### 🌐 Sphere"
      ],
      "metadata": {
        "id": "kSoiF-yTa9dr"
      }
    },
    {
      "cell_type": "code",
      "source": [
        "no, fc, el = i2m.meshasphere([10, 20, 30], 10, 1, 10)\n",
        "\n",
        "i2m.plotmesh(no, fc)\n",
        "i2m.plotmesh(no, el, 'y>20')"
      ],
      "metadata": {
        "id": "eG5xzdptYVKU"
      },
      "execution_count": null,
      "outputs": []
    },
    {
      "cell_type": "markdown",
      "source": [
        "Controlling mesh density by setting `tsize` (surface mesh density) and `maxvol`"
      ],
      "metadata": {
        "id": "BgJAfwJLZ-Y-"
      }
    },
    {
      "cell_type": "code",
      "source": [
        "no, fc, el = i2m.meshasphere([10, 20, 30], 10, tsize=0.5, maxvol=2)\n",
        "\n",
        "i2m.plotmesh(no, fc)\n",
        "i2m.plotmesh(no, el, 'y>20')"
      ],
      "metadata": {
        "id": "FV1l-eUiZMw_"
      },
      "execution_count": null,
      "outputs": []
    },
    {
      "cell_type": "markdown",
      "source": [
        "### 🏉 Ellipsoid"
      ],
      "metadata": {
        "id": "eeKjLa4UbDJR"
      }
    },
    {
      "cell_type": "code",
      "source": [
        "no, fc, el = i2m.meshanellip([10, 20, 30], [10, 5, 3], tsize=0.3, maxvol=1)\n",
        "\n",
        "i2m.plotmesh(no, fc)\n",
        "i2m.plotmesh(no, el, 'y>20')"
      ],
      "metadata": {
        "id": "fzrTojhyap0b"
      },
      "execution_count": null,
      "outputs": []
    },
    {
      "cell_type": "markdown",
      "source": [
        "### ⛃ Cylinder"
      ],
      "metadata": {
        "id": "DBmklfNibpyX"
      }
    },
    {
      "cell_type": "code",
      "source": [
        "no, fc, el = i2m.meshacylinder([2, 2, 0], [2, 2, 10], 4, 0.2, 1)\n",
        "\n",
        "i2m.plotmesh(no, fc)\n",
        "i2m.plotmesh(no, el, 'y>2')"
      ],
      "metadata": {
        "id": "_RGHiOXBYrvW"
      },
      "execution_count": null,
      "outputs": []
    },
    {
      "cell_type": "code",
      "source": [
        "# setting tsize=0 and maxvol=0 returns the piece-wise-polygon (PLC) complexes\n",
        "no, fc = i2m.meshacylinder([2, 2, 0], [2, 2, 10], 4, 0, 0)\n",
        "\n",
        "i2m.plotmesh(no, fc, alpha=0.3)\n",
        "\n",
        "fc"
      ],
      "metadata": {
        "id": "s7UwG8_5b58-"
      },
      "execution_count": null,
      "outputs": []
    },
    {
      "cell_type": "markdown",
      "source": [
        "Oblique cylinder"
      ],
      "metadata": {
        "id": "H2db7BtmdP2D"
      }
    },
    {
      "cell_type": "code",
      "source": [
        "no, fc = i2m.meshacylinder([2, 2, 0], [0, 0, 10], [2, 4], 0, 0)\n",
        "\n",
        "i2m.plotmesh(no, fc)\n",
        "\n",
        "no, el, fc = i2m.meshacylinder([2, 2, 0], [0, 0, 10], [2, 4], 0.2, 1)\n",
        "\n",
        "i2m.plotmesh(no, fc)"
      ],
      "metadata": {
        "id": "eZWLDjY1cNwH"
      },
      "execution_count": null,
      "outputs": []
    },
    {
      "cell_type": "markdown",
      "source": [
        "### ⊞ Uniform grid"
      ],
      "metadata": {
        "id": "kNnm_S9LS3gM"
      }
    },
    {
      "cell_type": "code",
      "source": [
        "no, el = i2m.meshgrid5([0, 1, 2, 3], [0, 1, 2], [0, 0.5, 1])\n",
        "\n",
        "i2m.plotmesh(no, el, 'z < 1.2')"
      ],
      "metadata": {
        "id": "zJHtVaveVstz"
      },
      "execution_count": null,
      "outputs": []
    },
    {
      "cell_type": "code",
      "source": [
        "no, el = i2m.meshgrid6([0, 1, 2, 3], [0, 1, 2], [0, 0.5, 1])\n",
        "\n",
        "i2m.plotmesh(no, el, 'z < 1.2')"
      ],
      "metadata": {
        "id": "R17DMnVnS7Nz"
      },
      "execution_count": null,
      "outputs": []
    },
    {
      "cell_type": "markdown",
      "source": [
        "### 📦 Non-uniform grid"
      ],
      "metadata": {
        "id": "zvHEPEG9S0G_"
      }
    },
    {
      "cell_type": "code",
      "source": [
        "no, fc, c0 = i2m.latticegrid([0,1,3], [0, 2], [0, 0.8, 1])\n",
        "\n",
        "i2m.plotmesh(no, fc)\n",
        "c0"
      ],
      "metadata": {
        "id": "wx2uHtELcfoZ"
      },
      "execution_count": null,
      "outputs": []
    },
    {
      "cell_type": "code",
      "source": [
        "help(i2m.s2m)"
      ],
      "metadata": {
        "id": "0hktmKtveoZM"
      },
      "execution_count": null,
      "outputs": []
    },
    {
      "cell_type": "code",
      "source": [
        "# use the regions input to specify the seed-point for each region; a seed is a x/y/z triplet that is within each enclosed surface\n",
        "no2, el2, fc2 = i2m.s2m(no, fc, 1, maxvol=0.3, regions=c0)\n",
        "\n",
        "i2m.plotmesh(no2, el2)"
      ],
      "metadata": {
        "id": "-tpYv9rWePV3"
      },
      "execution_count": null,
      "outputs": []
    },
    {
      "cell_type": "code",
      "source": [
        "i2m.plotmesh(no2, el2[np.logical_or(el2[:, -1] == 1, el2[:, -1] == 4) , :])"
      ],
      "metadata": {
        "id": "y1EeSYLqemjN"
      },
      "execution_count": null,
      "outputs": []
    },
    {
      "cell_type": "code",
      "source": [
        "no2, el2, fc2 = i2m.s2m(no, fc, 1, maxvol=0.3, regions=c0)"
      ],
      "metadata": {
        "id": "pzm9XrQdk3xh"
      },
      "execution_count": null,
      "outputs": []
    },
    {
      "cell_type": "code",
      "source": [
        "regionsize = np.hstack((c0, np.array([0.001,1,1,1]).reshape(4,1)))\n",
        "print(regionsize)\n",
        "\n",
        "no3, el3, fc3 = i2m.s2m(no, fc, 1, maxvol=0.3, regions=c0)\n",
        "\n",
        "i2m.plotmesh(no3, el3)"
      ],
      "metadata": {
        "id": "vq9-I6Lte6gx"
      },
      "execution_count": null,
      "outputs": []
    },
    {
      "cell_type": "markdown",
      "source": [
        "## [⮺] Create meshes from Boolean operations of multiple surfaces"
      ],
      "metadata": {
        "id": "4kzrcpWjl6iO"
      }
    },
    {
      "cell_type": "markdown",
      "source": [
        "### ⋃ - Logical `or`"
      ],
      "metadata": {
        "id": "TF_W8QjaqyMi"
      }
    },
    {
      "cell_type": "code",
      "source": [
        "no1, fc1, _ = i2m.meshabox([0, 0, 0], [30, 20, 10], 1, 100)\n",
        "\n",
        "i2m.plotmesh(no1, fc1)\n",
        "\n",
        "no2, fc2, _ = i2m.meshasphere([10, 10, 13], 8, 1, 100)\n",
        "\n",
        "i2m.plotmesh(no2, fc2)\n",
        "\n",
        "no1, fc1, _ = i2m.removeisolatednode(no1, fc1)\n",
        "no2, fc2, _ = i2m.removeisolatednode(no2, fc2)\n",
        "\n",
        "no3, fc3 = i2m.surfboolean(no1, fc1, 'or', no2, fc2)\n",
        "\n",
        "i2m.plotmesh(no3, fc3)"
      ],
      "metadata": {
        "id": "UbgO9V0Kl_7P"
      },
      "execution_count": null,
      "outputs": []
    },
    {
      "cell_type": "markdown",
      "source": [
        "### ⋂ - Logical `and`"
      ],
      "metadata": {
        "id": "kpcDhUbRq16d"
      }
    },
    {
      "cell_type": "code",
      "source": [
        "no3, fc3 = i2m.surfboolean(no1, fc1, 'and', no2, fc2)\n",
        "\n",
        "i2m.plotmesh(no3, fc3)"
      ],
      "metadata": {
        "id": "2kA2jSpZmlDQ"
      },
      "execution_count": null,
      "outputs": []
    },
    {
      "cell_type": "markdown",
      "source": [
        "### ⊖ - Subtraction/diff"
      ],
      "metadata": {
        "id": "TaozS8Ccq50z"
      }
    },
    {
      "cell_type": "code",
      "source": [
        "no3, fc3 = i2m.surfboolean(no1, fc1, 'diff', no2, fc2)\n",
        "\n",
        "i2m.plotmesh(no3, fc3, 'y>10')"
      ],
      "metadata": {
        "id": "EZD6LUIpn5jH"
      },
      "execution_count": null,
      "outputs": []
    },
    {
      "cell_type": "markdown",
      "source": [
        "### ① - First surface sliced by the second surface"
      ],
      "metadata": {
        "id": "kkgDdWT3q_Br"
      }
    },
    {
      "cell_type": "code",
      "source": [
        "no3, fc3 = i2m.surfboolean(no1, fc1, 'first', no2, fc2)\n",
        "\n",
        "i2m.plotmesh(no3, fc3, 'y>10')"
      ],
      "metadata": {
        "id": "ZGRSPzq8n8-M"
      },
      "execution_count": null,
      "outputs": []
    },
    {
      "cell_type": "markdown",
      "source": [
        "### ② - Second surface sliced by the first surface"
      ],
      "metadata": {
        "id": "_DNqZ1iorDOs"
      }
    },
    {
      "cell_type": "code",
      "source": [
        "no3, fc3 = i2m.surfboolean(no1, fc1, 'second', no2, fc2)\n",
        "\n",
        "i2m.plotmesh(no3, fc3, 'y>10')"
      ],
      "metadata": {
        "id": "zxUjoSSJoDWR"
      },
      "execution_count": null,
      "outputs": []
    },
    {
      "cell_type": "markdown",
      "source": [
        "### ⟳ Remeshing after boolean"
      ],
      "metadata": {
        "id": "7YEntbrurF7O"
      }
    },
    {
      "cell_type": "code",
      "source": [
        "no3, fc3 = i2m.surfboolean(no1, fc1, '-diff', no2, fc2)\n",
        "\n",
        "i2m.plotmesh(no3, fc3)"
      ],
      "metadata": {
        "id": "f9ZZrfv5oPNu"
      },
      "execution_count": null,
      "outputs": []
    },
    {
      "cell_type": "markdown",
      "source": [
        "### 🕸 Tetrahedral mesh generation after boolean"
      ],
      "metadata": {
        "id": "cq8v0UItrJN7"
      }
    },
    {
      "cell_type": "code",
      "source": [
        "no3, fc3 = i2m.surfboolean(no1, fc1, 'first', no2, fc2)\n",
        "\n",
        "node, elem, face = i2m.s2m(no3, fc3, 1, 3, method='tetgen1.5')\n",
        "\n",
        "i2m.plotmesh(node, elem, 'y > 10')"
      ],
      "metadata": {
        "id": "YY3BqfIdoVPP"
      },
      "execution_count": null,
      "outputs": []
    },
    {
      "cell_type": "markdown",
      "source": [
        "### ⮺ - Resolve intersections of both surfaces"
      ],
      "metadata": {
        "id": "iGazISeorTAn"
      }
    },
    {
      "cell_type": "code",
      "source": [
        "no3, fc3 = i2m.surfboolean(no1, fc1, 'resolve', no2, fc2)\n",
        "\n",
        "i2m.plotmesh(no3, fc3, 'y > 10')\n",
        "\n",
        "regionseeds=[[1,1,1], [10, 10, 9], [10, 10, 15]]\n",
        "\n",
        "node, elem, face = i2m.s2m(no3, fc3, 1, 10, 'tetgen', regionseeds)\n",
        "\n",
        "i2m.plotmesh(node, elem, 'y > 10')"
      ],
      "metadata": {
        "id": "qudM_zrxpZfb"
      },
      "execution_count": null,
      "outputs": []
    },
    {
      "cell_type": "markdown",
      "source": [
        "## [▦] Mesh generation from 3-D volumes"
      ],
      "metadata": {
        "id": "hVZYOLnetTcf"
      }
    },
    {
      "cell_type": "markdown",
      "source": [
        "### ◨ Creating mesh from binary 3-D binary volumes"
      ],
      "metadata": {
        "id": "mmTVrh9JEPxt"
      }
    },
    {
      "cell_type": "code",
      "source": [
        "# creating a 3D array of distances to c0=[30,30,30]\n",
        "xi, yi, zi = np.meshgrid(np.arange(0, 61), np.arange(0, 58), np.arange(0, 55), indexing='ij')\n",
        "dist = (xi - 30)**2 + (yi - 30)**2 + (zi - 30)**2\n",
        "\n",
        "dist = dist.astype(np.float32)\n",
        "\n",
        "# creating a logical/binary mask at r=20 centered at c0\n",
        "mask = dist < 400\n",
        "\n",
        "# extract a triangular surface of the binary image\n",
        "no, fc = i2m.binsurface(mask)\n",
        "\n",
        "# plot the output mesh\n",
        "i2m.plotmesh(no, fc)"
      ],
      "metadata": {
        "id": "xAx_faL4qNu3"
      },
      "execution_count": null,
      "outputs": []
    },
    {
      "cell_type": "markdown",
      "source": [
        "As you can see, the directly extracted binary volume surface mesh is terraced, due to the voxelation of the input binary volume. It is also very dense. To approximate a smooth curved surface, one approch is to downsample the surface using `meshresample` and apply Laplacian-HC smoothing for 20 iterations, as shown below"
      ],
      "metadata": {
        "id": "_DlWPVPqPCdw"
      }
    },
    {
      "cell_type": "code",
      "source": [
        "no1, fc1 = i2m.meshresample(no, fc, 0.2)\n",
        "\n",
        "no1 = i2m.sms(no1, fc1, 20)\n",
        "\n",
        "i2m.plotmesh(no1, fc1)"
      ],
      "metadata": {
        "id": "lorxe5CA3Sg8"
      },
      "execution_count": null,
      "outputs": []
    },
    {
      "cell_type": "markdown",
      "source": [
        "### ▢ Using marching-cubes to create binary volume surface"
      ],
      "metadata": {
        "id": "LnOfAb5qQ3rr"
      }
    },
    {
      "cell_type": "markdown",
      "source": [
        "If one had installed `scipy`, one can add the `'iso'` option to create a marching-cube based surface from the binary volume. The marching-cube surface have slightly less terraced look as the surface above, but still very dense and not as smooth. As a result, down-sampling and smoothing can also be applied"
      ],
      "metadata": {
        "id": "Qz1eu9H7PiPo"
      }
    },
    {
      "cell_type": "code",
      "source": [
        "no, fc = i2m.binsurface(mask, 'iso')\n",
        "i2m.plotmesh(no, fc)\n",
        "\n",
        "no1, fc1 = i2m.meshresample(no, fc, 0.2)\n",
        "no1 = i2m.sms(no1, fc1, 20)\n",
        "\n",
        "i2m.plotmesh(no1, fc1)"
      ],
      "metadata": {
        "id": "xNrrwJTLPhz9"
      },
      "execution_count": null,
      "outputs": []
    },
    {
      "cell_type": "code",
      "source": [
        "no, fc = i2m.binsurface(mask, 4)\n",
        "\n",
        "i2m.plotmesh(no, fc.tolist())"
      ],
      "metadata": {
        "id": "u9P5OylkNXK3"
      },
      "execution_count": null,
      "outputs": []
    },
    {
      "cell_type": "markdown",
      "source": [
        "### ▣ Creating meshes from multi-label volumes\n",
        "\n",
        "A multi-label volume usually refers to an integer array, with voxels belonging to the same material marked by the same ID (label).\n",
        "\n",
        "This is very commonly used in segmented 3-D arrays, such as a human brain"
      ],
      "metadata": {
        "id": "RwbZF84fRBr_"
      }
    },
    {
      "cell_type": "code",
      "source": [
        "labels = mask.astype(np.float32)\n",
        "\n",
        "labels[25:35, 25:35, :] = 2\n",
        "\n",
        "no, el, fc = i2m.v2m(labels.astype(np.uint8), [], 2, 10, 'cgalmesh')\n",
        "\n",
        "i2m.plotmesh(no, el)\n",
        "i2m.plotmesh(no, fc, 'y > 30')"
      ],
      "metadata": {
        "id": "EXSPzZ8X40-8"
      },
      "execution_count": null,
      "outputs": []
    },
    {
      "cell_type": "markdown",
      "source": [
        "### ◫ Controlling output mesh density"
      ],
      "metadata": {
        "id": "w__CTtZhVqeA"
      }
    },
    {
      "cell_type": "code",
      "source": [
        "opt = {'radbound': 1, 'distbound': 0.2}\n",
        "no, el, fc = i2m.v2m(labels.astype(np.uint8), [], opt, 2, 'cgalmesh')\n",
        "\n",
        "i2m.plotmesh(no, el)\n",
        "\n",
        "i2m.plotmesh(no, el, 'y > 30')"
      ],
      "metadata": {
        "id": "bOfDPftB7GAn"
      },
      "execution_count": null,
      "outputs": []
    },
    {
      "cell_type": "code",
      "source": [
        "i2m.plotmesh(no[:, :3], el[el[:, -1] == 1, :4])\n",
        "i2m.plotmesh(no[:, :3], el[el[:, -1] == 2, :4])"
      ],
      "metadata": {
        "id": "dc0CUZrZAgij"
      },
      "execution_count": null,
      "outputs": []
    },
    {
      "cell_type": "markdown",
      "source": [
        "### ▩ Creating surface meshes from gray-scale 3-D volumes"
      ],
      "metadata": {
        "id": "WwTnqBILVx9W"
      }
    },
    {
      "cell_type": "code",
      "source": [
        "import matplotlib.pyplot as plt\n",
        "\n",
        "xi, yi, zi = np.meshgrid(np.arange(0, 61), np.arange(0, 58), np.arange(0, 55), indexing='ij')\n",
        "dist = (xi - 30)**2 + (yi - 30)**2 + (zi - 30)**2\n",
        "\n",
        "dist = 900 - dist.astype(np.float32)\n",
        "\n",
        "plt.imshow(dist[30, :, :])\n",
        "plt.colorbar()\n",
        "plt.show()\n",
        "\n",
        "no, fc, _, _ = i2m.v2s(dist, [100, 400], 2)\n",
        "\n",
        "i2m.plotmesh(no, fc, 'y>20', alpha=0.7, edgecolor='b')"
      ],
      "metadata": {
        "id": "UrFNpVtmBMG3"
      },
      "execution_count": null,
      "outputs": []
    },
    {
      "cell_type": "code",
      "source": [
        "node, elem, _ = i2m.s2m(no, fc, 1, 50)\n",
        "\n",
        "i2m.plotmesh(node, elem, 'y>20')"
      ],
      "metadata": {
        "id": "lCUehfQQWKdR"
      },
      "execution_count": null,
      "outputs": []
    },
    {
      "cell_type": "code",
      "source": [
        "regions = [[30,30,30], [30, 30, 15]]\n",
        "node, elem, _ = i2m.s2m(no, fc, 1, 50, 'tetgen', regions)\n",
        "\n",
        "i2m.plotmesh(node, elem, 'y>20')"
      ],
      "metadata": {
        "id": "ILoEtNE4Y8RK"
      },
      "execution_count": null,
      "outputs": []
    },
    {
      "cell_type": "code",
      "source": [
        "holes = [[30,30,30]]\n",
        "node, elem, _ = i2m.s2m(no, fc, 1, 50, 'tetgen', [], holes)\n",
        "\n",
        "i2m.plotmesh(node, elem, 'y>20', shade=True)"
      ],
      "metadata": {
        "id": "vJ1t91zCZuv0"
      },
      "execution_count": null,
      "outputs": []
    },
    {
      "cell_type": "code",
      "source": [
        "no, fc, _, _ = i2m.v2s(dist, [100, 400, 600, 800], 1.5)\n",
        "\n",
        "i2m.plotmesh(no, fc, 'y>20', alpha=0.5, shade=True)\n",
        "\n",
        "node, elem, _ = i2m.s2m(no, fc, 1, 50, 'tetgen1.5')\n",
        "\n",
        "i2m.plotmesh(node, elem, 'y>30')"
      ],
      "metadata": {
        "id": "gulXIRtoZ_0Z"
      },
      "execution_count": null,
      "outputs": []
    },
    {
      "cell_type": "markdown",
      "source": [
        "## [💎] Creating meshes from polyhedral surfaces"
      ],
      "metadata": {
        "id": "fH_9RvG-g01O"
      }
    },
    {
      "cell_type": "markdown",
      "source": [
        "### ⛺ Define PLC surfaces\n"
      ],
      "metadata": {
        "id": "MiV_m0XG4-2I"
      }
    },
    {
      "cell_type": "code",
      "source": [
        "# define a solid by a set of water-tight polyhedral surfaces (face must be a list)\n",
        "no = np.array([[0,0,0], [0, 1, 0], [1, 1, 0], [1, 0, 0], [0.5, 0.5, 1]]) * 10\n",
        "\n",
        "# each list defines a polygon enclosed by the node indices (1-based)\n",
        "fc = [[1, 2, 5], [2, 3, 5], [3, 4, 5], [4, 1, 5], [1, 2, 3, 4]]\n",
        "\n",
        "node, elem, face = i2m.s2m(no, fc, 1, 3)\n",
        "\n",
        "edges = i2m.meshedge(elem[:, :4])\n",
        "\n",
        "i2m.plotmesh(node, edges, edgecolor='k', linewidth=0.5)\n",
        "i2m.plotmesh(node, face, alpha=0.5)"
      ],
      "metadata": {
        "id": "vgUd3uLhg6Ss"
      },
      "execution_count": null,
      "outputs": []
    },
    {
      "cell_type": "markdown",
      "source": [
        "### 🕳️ Creating holes in a polyhedral surface facet"
      ],
      "metadata": {
        "id": "6Lp5TNCvDOO-"
      }
    },
    {
      "cell_type": "code",
      "source": [
        "# define a solid by a set of water-tight polyhedral surfaces (face must be a list)\n",
        "no = np.array([[0,0,0], [0, 1, 0], [1, 1, 0], [1, 0, 0], [0.5, 0.5, -1], [0.2, 0.2, 0], [0.2, 0.8, 0], [0.8, 0.8, 0], [0.8, 0.2, 0]]) * 10\n",
        "\n",
        "# each list defines a polygon enclosed by the node indices (1-based)\n",
        "fc = [[1, 2, 5], [2, 3, 5], [3, 4, 5], [4, 1, 5], [1, 2, 3, 4, float('nan'), 6, 7, 8, 9], [6, 7, 5], [7, 8, 5], [8, 9, 5], [9, 6, 5]]\n",
        "\n",
        "node, elem, face = i2m.s2m(no, fc, 1, 3)\n",
        "\n",
        "edges = i2m.meshedge(elem[:, :4])\n",
        "\n",
        "i2m.plotmesh(node, edges, edgecolor='k')\n",
        "i2m.plotmesh(node, face, shade=True)"
      ],
      "metadata": {
        "id": "QCh6Ezcdkwu4"
      },
      "execution_count": null,
      "outputs": []
    },
    {
      "cell_type": "markdown",
      "source": [
        "## [🗃️] Mesh properties"
      ],
      "metadata": {
        "id": "qbHY9i0efojd"
      }
    },
    {
      "cell_type": "code",
      "source": [],
      "metadata": {
        "id": "yHBBXbTI_g0Q"
      },
      "execution_count": null,
      "outputs": []
    },
    {
      "cell_type": "code",
      "source": [
        "no, el = i2m.meshgrid6(np.arange(9), np.arange(9), np.arange(5))\n",
        "\n",
        "fc = i2m.volface(el)[0]\n",
        "\n",
        "no1, fc1, _ = i2m.removeisolatednode(no, fc)\n",
        "\n",
        "i2m.plotmesh(no1, fc1, 'z < 8')\n",
        "\n",
        "node, elem, face = i2m.s2m(no1, fc1, 1, 10)\n",
        "\n",
        "i2m.plotmesh(node, elem, 'z < 8')\n"
      ],
      "metadata": {
        "id": "Jb9AZhhNf2no"
      },
      "execution_count": null,
      "outputs": []
    },
    {
      "cell_type": "markdown",
      "source": [
        "### Volume and area"
      ],
      "metadata": {
        "id": "jcatfBo9fq7S"
      }
    },
    {
      "cell_type": "code",
      "source": [
        "import matplotlib.pyplot as plt\n",
        "\n",
        "evol = i2m.elemvolume(node[:, :3], elem[:, :4])\n",
        "\n",
        "total_volume = np.sum(evol)\n",
        "\n",
        "print([np.min(evol), np.max(evol), total_volume])\n",
        "plt.hist(evol, 50)"
      ],
      "metadata": {
        "id": "Y0a2DoQaDaAz"
      },
      "execution_count": null,
      "outputs": []
    },
    {
      "cell_type": "code",
      "source": [
        "areas = i2m.elemvolume(node[:, :3], i2m.volface(elem[:, :4])[0])\n",
        "\n",
        "total_area = np.sum(areas)\n",
        "\n",
        "print([np.max(node, axis=0), np.min(areas), np.max(areas), total_area])"
      ],
      "metadata": {
        "id": "fQvhSP7gGO4N"
      },
      "execution_count": null,
      "outputs": []
    },
    {
      "cell_type": "markdown",
      "source": [
        "### Mesh quality"
      ],
      "metadata": {
        "id": "LU2kiLV2GSu0"
      }
    },
    {
      "cell_type": "code",
      "source": [
        "emetric = i2m.meshquality(node[:, :3], elem[:, :4])\n",
        "plt.hist(emetric, 30)"
      ],
      "metadata": {
        "id": "n1T9hDDRGYDq"
      },
      "execution_count": null,
      "outputs": []
    },
    {
      "cell_type": "code",
      "source": [
        "fmetric = i2m.meshquality(node[:, :3], face[:, :3])\n",
        "plt.hist(fmetric)"
      ],
      "metadata": {
        "id": "wIJm1n7JGnYr"
      },
      "execution_count": null,
      "outputs": []
    },
    {
      "cell_type": "markdown",
      "source": [
        "### Extract faces"
      ],
      "metadata": {
        "id": "bECzkH2zG5kX"
      }
    },
    {
      "cell_type": "markdown",
      "source": [
        "`volface()` extracts the exterior faces"
      ],
      "metadata": {
        "id": "r3hjQn41HQTa"
      }
    },
    {
      "cell_type": "code",
      "source": [
        "fc = i2m.volface(elem[:, :4])[0]\n",
        "print([fc.shape, face.shape])"
      ],
      "metadata": {
        "id": "KzPvgE3rG8VL"
      },
      "execution_count": null,
      "outputs": []
    },
    {
      "cell_type": "markdown",
      "source": [
        "`meshface()` extracts all faces - every interior face appears twice"
      ],
      "metadata": {
        "id": "m_zwxwxGHVMb"
      }
    },
    {
      "cell_type": "code",
      "source": [
        "fc = i2m.meshface(elem[:, :4])\n",
        "print(fc.shape)\n",
        "i2m.plotmesh(node, fc)"
      ],
      "metadata": {
        "id": "7YrCaaNqHawL"
      },
      "execution_count": null,
      "outputs": []
    },
    {
      "cell_type": "markdown",
      "source": [
        "`uniqfaces()` extracts the unique faces"
      ],
      "metadata": {
        "id": "O7_u0ibVIww9"
      }
    },
    {
      "cell_type": "code",
      "source": [
        "fc = i2m.uniqfaces(elem[:, :4])[0]\n",
        "print(fc.shape)\n",
        "i2m.plotmesh(node, fc)"
      ],
      "metadata": {
        "id": "8EuMLW0RHoQx"
      },
      "execution_count": null,
      "outputs": []
    },
    {
      "cell_type": "markdown",
      "source": [
        "### Extract edges"
      ],
      "metadata": {
        "id": "yvJoDEcDJH2X"
      }
    },
    {
      "cell_type": "markdown",
      "source": [
        "`meshedge()` extracts all edges, including shared ones"
      ],
      "metadata": {
        "id": "uq28hakCJKeO"
      }
    },
    {
      "cell_type": "code",
      "source": [
        "ed = i2m.meshedge(elem[:, :4])\n",
        "print(ed.shape)\n",
        "\n",
        "i2m.plotmesh(node, ed, linewidth=0.1)\n",
        "\n",
        "ed = i2m.meshedge(face[:, :3])\n",
        "print(ed.shape)\n",
        "\n",
        "i2m.plotmesh(node, ed, linewidth=0.4)"
      ],
      "metadata": {
        "id": "f-nnl-03JJL2"
      },
      "execution_count": null,
      "outputs": []
    },
    {
      "cell_type": "markdown",
      "source": [
        "`uniqedges()` extracts unique edges"
      ],
      "metadata": {
        "id": "kK2md3HmJ2Yb"
      }
    },
    {
      "cell_type": "code",
      "source": [
        "ed = i2m.uniqedges(face[:, :3])[0]\n",
        "print(ed.shape)\n",
        "\n",
        "i2m.plotmesh(node, ed, linewidth=0.5)"
      ],
      "metadata": {
        "id": "xbFux72oJ556"
      },
      "execution_count": null,
      "outputs": []
    },
    {
      "cell_type": "markdown",
      "source": [],
      "metadata": {
        "id": "7ycIGd7LJyaF"
      }
    },
    {
      "cell_type": "markdown",
      "source": [
        "### Centroids\n",
        "\n",
        "`meshcentroid()` computes face or elem centroids"
      ],
      "metadata": {
        "id": "HKfkavs3KLvp"
      }
    },
    {
      "cell_type": "code",
      "source": [
        "c0e = i2m.meshcentroid(node, elem[:, :4])\n",
        "c0f = i2m.meshcentroid(node, face[:, :3])\n",
        "\n",
        "sidefaces = face[np.logical_and(c0f[:, 2] > 0, c0f[:, 2] < np.max(node[:, 2])), :3]\n",
        "ax = i2m.plotmesh(node, sidefaces)"
      ],
      "metadata": {
        "id": "Uvtord8oKN5M"
      },
      "execution_count": null,
      "outputs": []
    },
    {
      "cell_type": "markdown",
      "source": [
        "### Surface open-edges"
      ],
      "metadata": {
        "id": "fl3inSgZMn5H"
      }
    },
    {
      "cell_type": "code",
      "source": [
        "oped = i2m.surfedge(sidefaces)[0]\n",
        "\n",
        "i2m.plotmesh(node, oped)"
      ],
      "metadata": {
        "id": "t6Q9LflOMq-d"
      },
      "execution_count": null,
      "outputs": []
    },
    {
      "cell_type": "markdown",
      "source": [
        "### Extract surface-edge loops"
      ],
      "metadata": {
        "id": "yOV5ZTWLNGk9"
      }
    },
    {
      "cell_type": "markdown",
      "source": [
        "`extractedgeloop()` returns a 1D vector with nan separated polygons, each denoting a closed loop of the open-edge"
      ],
      "metadata": {
        "id": "r3WBDPqaNLlw"
      }
    },
    {
      "cell_type": "code",
      "source": [
        "edloops = np.array(i2m.extractloops(oped), dtype=np.float32)\n",
        "print(edloops)\n",
        "\n",
        "loopends = np.where(np.isnan(edloops))[0]\n",
        "print(loopends)"
      ],
      "metadata": {
        "id": "1vsdbf0UNY2x"
      },
      "execution_count": null,
      "outputs": []
    },
    {
      "cell_type": "markdown",
      "source": [],
      "metadata": {
        "id": "JUfSaKHXNYbt"
      }
    },
    {
      "cell_type": "markdown",
      "source": [
        "### Node neighborhood"
      ],
      "metadata": {
        "id": "HUIzFt_1MMG3"
      }
    },
    {
      "cell_type": "markdown",
      "source": [
        "`meshconn()` returns the list of node-neighbors of each node"
      ],
      "metadata": {
        "id": "AgoOFNlwMRkp"
      }
    },
    {
      "cell_type": "code",
      "source": [
        "# node neighbors in the tetrahedral mesh\n",
        "econn = i2m.meshconn(elem[:, :4], node.shape[0])[0]\n",
        "\n",
        "# node neighbors in the triangular surface\n",
        "fconn = i2m.meshconn(face[:, :3], node.shape[0])[0]\n",
        "\n",
        "# print the neighbors of the first 3 nodes\n",
        "print(econn[:3])\n",
        "\n",
        "nb3 = []\n",
        "for neighbor in econn[:3]:\n",
        "  nb3.extend(neighbor)\n",
        "\n",
        "# plot the neighbors of the first 3 nodes\n",
        "ax = i2m.plotmesh(node[np.array(nb3) - 1, :], 'ro')"
      ],
      "metadata": {
        "id": "MWbW0dUoMZ_M"
      },
      "execution_count": null,
      "outputs": []
    },
    {
      "cell_type": "markdown",
      "source": [
        "### Face neighbors\n",
        "\n",
        "`edgeneighbors()` reports the neighboring triangular elements in a triangule mesh"
      ],
      "metadata": {
        "id": "d8-YL5s7R1N0"
      }
    },
    {
      "cell_type": "code",
      "source": [
        "edconn = i2m.edgeneighbors(face[:, :3])\n",
        "\n",
        "print(edconn[:3])\n",
        "\n",
        "nb3 = []\n",
        "for neighbor in edconn[:3]:\n",
        "  nb3.extend(neighbor)\n",
        "\n",
        "# plot the neighbors of the first 3 triangles\n",
        "no2, fc2, _ = i2m.removeisolatednode(node, face[np.array(nb3) - 1, :3])\n",
        "i2m.plotmesh(no2, fc2)"
      ],
      "metadata": {
        "id": "HfeH1DFPSFrL"
      },
      "execution_count": null,
      "outputs": []
    },
    {
      "cell_type": "markdown",
      "source": [
        "### Tetrahedron neighbors\n",
        "\n",
        "`faceneighbors()` returns the tetrahedra for each element (up to 4 neighbors per element).\n",
        "\n",
        "An index is 0 is used when a facet of an element is on the exterior surface"
      ],
      "metadata": {
        "id": "ZulEY81ZRxu2"
      }
    },
    {
      "cell_type": "code",
      "source": [
        "facenb = i2m.faceneighbors(elem[:, :4])\n",
        "\n",
        "print(facenb[:3,:])"
      ],
      "metadata": {
        "id": "oqh-Q9_STK7G"
      },
      "execution_count": null,
      "outputs": []
    },
    {
      "cell_type": "markdown",
      "source": [
        "### Surface and nodal norm"
      ],
      "metadata": {
        "id": "b_O9a4NoTKB4"
      }
    },
    {
      "cell_type": "code",
      "source": [
        "sn = i2m.surfacenorm(node, face[:, :3])\n",
        "\n",
        "c0 = i2m.meshcentroid(node, face[:, :3])\n",
        "c0sn = np.vstack((c0, c0 - sn * 0.4))\n",
        "\n",
        "nf = face.shape[0]\n",
        "normarrow=np.hstack((np.arange(1, nf + 1).reshape(-1, 1), np.arange(nf + 1, 2*nf + 1).reshape(-1, 1)))\n",
        "\n",
        "print(normarrow.shape)\n",
        "\n",
        "i2m.plotmesh(c0sn, normarrow)"
      ],
      "metadata": {
        "id": "nJBPbarGT0xM"
      },
      "execution_count": null,
      "outputs": []
    },
    {
      "cell_type": "code",
      "source": [
        "no1, fc1, _ = i2m.removeisolatednode(node, face[:, :3])\n",
        "\n",
        "nsn = i2m.nodesurfnorm(no1, fc1)\n",
        "\n",
        "c0 = no1[:, :3]\n",
        "c0sn = np.vstack((c0, c0 - nsn * 0.4))\n",
        "\n",
        "nf = c0.shape[0]\n",
        "normarrow=np.hstack((np.arange(1, nf + 1).reshape(-1, 1), np.arange(nf + 1, 2*nf + 1).reshape(-1, 1)))\n",
        "\n",
        "print(normarrow.shape)\n",
        "\n",
        "i2m.plotmesh(c0sn, normarrow)"
      ],
      "metadata": {
        "id": "hFvIyz2RVnYW"
      },
      "execution_count": null,
      "outputs": []
    },
    {
      "cell_type": "markdown",
      "source": [
        "## [🖼️] Visualization\n",
        "\n",
        "\n",
        "The primary function in iso2mesh for plotting mesh data is `plotmesh()`. It automatically select the appropriate plotting funcing, such as `plotedges()`, `plotsurf()` and `plottetra()`, depending on user's input. As a result, it is recommended to use `plotmesh()` for most plotting tasks regardless of the type of input data."
      ],
      "metadata": {
        "id": "zphjf4gEetNL"
      }
    },
    {
      "cell_type": "markdown",
      "source": [
        "### Plotting surfaces\n",
        "\n",
        "`plotmesh(node, face)` where `node` is Nx3 and `face` is Nf * 3"
      ],
      "metadata": {
        "id": "DPf_1MFYgHRX"
      }
    },
    {
      "cell_type": "code",
      "source": [
        "no1, fc1, _ = i2m.meshacylinder([2, 2, -1], [2, 2, 12], 2, 0.2, 1)\n",
        "no2, el2 = i2m.meshgrid5([-4, 8], [-2, 6], [0, 10])\n",
        "\n",
        "fc2 = i2m.volface(el2)[0]\n",
        "no2, fc2, _ = i2m.removeisolatednode(no2, fc2)\n",
        "\n",
        "print([no1.shape, fc1.shape])\n",
        "print([no2.shape, fc2.shape])\n",
        "\n",
        "i2m.plotmesh(no1, fc1)\n",
        "i2m.plotmesh(no2, fc2)"
      ],
      "metadata": {
        "id": "gX3dYSLra3wb"
      },
      "execution_count": null,
      "outputs": []
    },
    {
      "cell_type": "markdown",
      "source": [
        "### Range selector\n",
        "\n",
        "the 3rd input of `plotmesh()` supports range selector by providing an expression made of `x/y/z` variables. For example, `'z<10'` tells plotmesh to only plot triangles or tetrahedral elements with centroids below z=10."
      ],
      "metadata": {
        "id": "1iLRjCDDgUhX"
      }
    },
    {
      "cell_type": "code",
      "source": [
        "no3, fc3 = i2m.surfboolean(no1, fc1, 'resolve', no2, fc2)\n",
        "\n",
        "i2m.plotmesh(no3, fc3, 'z < 10')"
      ],
      "metadata": {
        "id": "PVtq2hDAgVFP"
      },
      "execution_count": null,
      "outputs": []
    },
    {
      "cell_type": "markdown",
      "source": [
        "multiple selector conditions can be used"
      ],
      "metadata": {
        "id": "G3r-arCpmVDI"
      }
    },
    {
      "cell_type": "code",
      "source": [
        "i2m.plotmesh(no3, fc3, '(z < 10) & (x < 2)')"
      ],
      "metadata": {
        "id": "WWX3072tmUoy"
      },
      "execution_count": null,
      "outputs": []
    },
    {
      "cell_type": "code",
      "source": [
        "i2m.plotmesh(no3, fc3, '(x < 2) | (z < 4) | (x < y)')"
      ],
      "metadata": {
        "id": "qKdNryK3nAw2"
      },
      "execution_count": null,
      "outputs": []
    },
    {
      "cell_type": "markdown",
      "source": [
        "### Plotting 3D points\n",
        "\n",
        "`plotmesh()` with a single node input plots the 3D points with a polyline sequentially connecting them"
      ],
      "metadata": {
        "id": "5OKKIhoh8wZq"
      }
    },
    {
      "cell_type": "code",
      "source": [
        "i2m.plotmesh(no2)"
      ],
      "metadata": {
        "id": "z9zgY3W4Bmw4"
      },
      "execution_count": null,
      "outputs": []
    },
    {
      "cell_type": "markdown",
      "source": [
        "the polyline can be customized using a marker style parameter"
      ],
      "metadata": {
        "id": "Ekaah-ukBvxw"
      }
    },
    {
      "cell_type": "code",
      "source": [
        "i2m.plotmesh(no3, 'ro')"
      ],
      "metadata": {
        "id": "LW9c3Km783Je"
      },
      "execution_count": null,
      "outputs": []
    },
    {
      "cell_type": "markdown",
      "source": [
        "### Plotting tetrahedral mesh with label"
      ],
      "metadata": {
        "id": "YAo6kR7bn5Mm"
      }
    },
    {
      "cell_type": "code",
      "source": [
        "node, elem, face = i2m.s2m(no3, fc3, 1, 10, 'tetgen1.5')\n",
        "\n",
        "print([node.shape, elem.shape, face.shape])\n",
        "\n",
        "# the last column (5-th) of elem is label - numbered for the 4 closed compartments\n",
        "print(np.unique(elem[:, -1]))\n",
        "\n",
        "i2m.plotmesh(node, elem)"
      ],
      "metadata": {
        "id": "VL8mT4ANn_62"
      },
      "execution_count": null,
      "outputs": []
    },
    {
      "cell_type": "code",
      "source": [
        "elemmask = (elem[:, -1] == 1) | (elem[:, -1] == 2) | (elem[:, -1] == 4)\n",
        "i2m.plotmesh(node[:, :3], elem[elemmask, :], linewidth=0.3)"
      ],
      "metadata": {
        "id": "EB9_Dh9Ao4cv"
      },
      "execution_count": null,
      "outputs": []
    },
    {
      "cell_type": "markdown",
      "source": [
        "### Plotting tetrahedral mesh without label"
      ],
      "metadata": {
        "id": "XKi2iT1PqT6X"
      }
    },
    {
      "cell_type": "code",
      "source": [
        "i2m.plotmesh(node[:, :3], elem[elemmask, :4], linewidth=0.3)"
      ],
      "metadata": {
        "id": "DJqlIJdKp3Ug"
      },
      "execution_count": null,
      "outputs": []
    },
    {
      "cell_type": "markdown",
      "source": [
        "### Plotting surface mesh with label"
      ],
      "metadata": {
        "id": "YxHiCLI9qnCu"
      }
    },
    {
      "cell_type": "code",
      "source": [
        "print(np.unique(face[:, -1]))\n",
        "\n",
        "i2m.plotmesh(node, face)"
      ],
      "metadata": {
        "id": "2dMYHLFEoWRi"
      },
      "execution_count": null,
      "outputs": []
    },
    {
      "cell_type": "markdown",
      "source": [
        "### Plotting nodal value over a tetrahedral mesh\n",
        "\n",
        "when `node` contains 4 columns, the 4th column is considered the nodal value, and is shown as colormap over the mesh"
      ],
      "metadata": {
        "id": "AKmsgplCrEr0"
      }
    },
    {
      "cell_type": "code",
      "source": [
        "nodalval = node[:, 0] * node[:, 1]*3 + node[:, 2] * node[:, 1]\n",
        "\n",
        "i2m.plotmesh(np.hstack((node, nodalval.reshape([-1,1]))), elem[:, :4], 'y > 1')"
      ],
      "metadata": {
        "id": "DHR-E-1erNh9"
      },
      "execution_count": null,
      "outputs": []
    },
    {
      "cell_type": "markdown",
      "source": [
        "### Plotting nodal value over a surface mesh\n"
      ],
      "metadata": {
        "id": "a76RwYg0sQWi"
      }
    },
    {
      "cell_type": "code",
      "source": [
        "nodalval = node[:, 0] * node[:, 1]*3 + node[:, 2] * node[:, 1]\n",
        "\n",
        "i2m.plotmesh(np.hstack((node, nodalval.reshape([-1,1]))), face[:, :3], 'y > -2')"
      ],
      "metadata": {
        "id": "Zqi8ltMNsR_N"
      },
      "execution_count": null,
      "outputs": []
    },
    {
      "cell_type": "markdown",
      "source": [
        "### Plotting tetrahedral mesh cross-sections\n",
        "\n",
        "`qmeshcut()` is a fast mesh-slicing function returning the cross-section of a tetrahedral mesh (2-D manifold) or triangular mesh (as loops, or 1-D manifold)"
      ],
      "metadata": {
        "id": "CqUZ07Z0CELJ"
      }
    },
    {
      "cell_type": "code",
      "source": [
        "# create an arbitrary implicit function at all nodes\n",
        "nodalval = node[:, 0] * node[:, 1]*3 + node[:, 2] * node[:, 1]\n",
        "\n",
        "# create a cross-section at y = 2 plane: output is a polyhedral mesh made of cutpos and facedata\n",
        "cutpos, cutval, facedata, _, _ = i2m.qmeshcut(elem[:, :4], node[:, :3], nodalval, 'y = 2')\n",
        "\n",
        "# facedata is a Nx4 array, denoting the quadrilaterals along the cross-section\n",
        "hh = i2m.plotmesh(cutpos, facedata.tolist(), hold='on', linewidth=0.6)\n",
        "i2m.plotmesh(node, i2m.meshedge(face[:,:3]), parent=hh, linewidth=0.2, color='b', alpha=0.6)"
      ],
      "metadata": {
        "id": "A1tIGX66CZ5q"
      },
      "execution_count": null,
      "outputs": []
    },
    {
      "cell_type": "markdown",
      "source": [
        "### Plotting cross-sections along isosurfaces\n",
        "\n",
        "`qmeshcut()` can also slice a mesh based on user-defined nodal values."
      ],
      "metadata": {
        "id": "CSA83LHzHzrY"
      }
    },
    {
      "cell_type": "code",
      "source": [
        "# cut the mesh and interpolate the nodal-values at nodalval=10\n",
        "cutpos, cutval, facedata, _, _ = i2m.qmeshcut(elem[:, :4], node[:, :3], nodalval, 10)\n",
        "\n",
        "hh = i2m.plotmesh(np.hstack((cutpos, cutval.reshape([-1,1]))), facedata.tolist(), hold='on', facecolors='r', linewidth=0.6)\n",
        "i2m.plotmesh(node, i2m.meshedge(face[:,:3]), parent=hh, linewidth=0.2, color='b', alpha=0.6)"
      ],
      "metadata": {
        "id": "BlUpsodWGjqr"
      },
      "execution_count": null,
      "outputs": []
    },
    {
      "cell_type": "markdown",
      "source": [
        "### Plotting surface mesh without label"
      ],
      "metadata": {
        "id": "zQtM4MWWq73w"
      }
    },
    {
      "cell_type": "code",
      "source": [
        "print([node.shape, face.shape])\n",
        "\n",
        "i2m.plotmesh(node, face[:, :3])"
      ],
      "metadata": {
        "id": "35qq1DlyqwZm"
      },
      "execution_count": null,
      "outputs": []
    },
    {
      "cell_type": "markdown",
      "source": [
        "### Plotting polylines"
      ],
      "metadata": {
        "id": "9f-naGSsu7qD"
      }
    },
    {
      "cell_type": "code",
      "source": [
        "c0 = i2m.meshcentroid(node, face[:, :3])\n",
        "ed, _ = i2m.surfedge(face[c0[:,1]>2, :3])\n",
        "\n",
        "print(ed[:4, :])\n",
        "\n",
        "i2m.plotmesh(node, ed)"
      ],
      "metadata": {
        "id": "IALnuIb9u_PQ"
      },
      "execution_count": null,
      "outputs": []
    },
    {
      "cell_type": "markdown",
      "source": [
        "### Customization of plot styles\n",
        "\n",
        "keyword-parameters can be added in `plotmesh()` to customize the matplotlib patch object created for the mesh plot; all parameters supported by the `Poly3DCollection` object can be used with `plotmesh()`"
      ],
      "metadata": {
        "id": "1TVhiDkFnikQ"
      }
    },
    {
      "cell_type": "code",
      "source": [
        "colmap = plt.get_cmap(\"hsv\");\n",
        "\n",
        "i2m.plotmesh(node, face[:, :3], edgecolor='w', linestyle='--',\n",
        "             linewidth=0.2, alpha=0.7, shade=True, cmap=colmap)"
      ],
      "metadata": {
        "id": "Y0nZHQLjs59p"
      },
      "execution_count": null,
      "outputs": []
    },
    {
      "cell_type": "markdown",
      "source": [
        "### Creating multi-panel subplots\n",
        "\n",
        "- `hh=plotmesh(...)` returns a dictionary `hh={'fig':[..], 'ax':[..], 'obj':[..]}`\n",
        "- `plotmesh(..., subplot=x, parent=hh)` allows one to plot meshes in the specified subplot index;\n",
        "- `plotmesh(..., hold='on')` holds on the current plot before completion of all its subplots\n"
      ],
      "metadata": {
        "id": "bTjVpTKTIR2M"
      }
    },
    {
      "cell_type": "code",
      "source": [
        "hh = i2m.plotmesh(no1, fc1, subplot=221, hold='on')\n",
        "i2m.plotmesh(no2, fc2, subplot=222, parent=hh, hold='on')\n",
        "i2m.plotmesh(no3, fc3, subplot=223, parent=hh, hold='on')\n",
        "i2m.plotmesh(node, face, subplot=224, parent=hh)"
      ],
      "metadata": {
        "id": "jOARYBxKIWeN"
      },
      "execution_count": null,
      "outputs": []
    },
    {
      "cell_type": "markdown",
      "source": [
        "### Overlaying multiple mesh on the same plot"
      ],
      "metadata": {
        "id": "lO4FOvFwJpAr"
      }
    },
    {
      "cell_type": "code",
      "source": [
        "hh = i2m.plotmesh(no3, 'ro', hold='on')\n",
        "i2m.plotmesh(node, face, parent=hh, alpha=0, linestyle=':')"
      ],
      "metadata": {
        "id": "q49CIXzVJwv-"
      },
      "execution_count": null,
      "outputs": []
    },
    {
      "cell_type": "markdown",
      "source": [
        "## [🌐] REST-API based data access from NeuroJSON.io"
      ],
      "metadata": {
        "id": "D39cMzuDe1l5"
      }
    },
    {
      "cell_type": "markdown",
      "source": [
        "### Accessing and meshing multi-label volumes"
      ],
      "metadata": {
        "id": "8H776Kf3Kzhn"
      }
    },
    {
      "cell_type": "code",
      "source": [
        "import jdata as jd\n",
        "\n",
        "# load JSON-based volume from NeuroJSON.io\n",
        "brain = jd.loadurl('https://neurojson.io:7777/fieldtrip(atlas)/FieldTrip--AAL--AAL1')\n",
        "\n",
        "atlas = np.transpose(brain['tissue'], [2,1,0])\n",
        "\n",
        "print([atlas.shape, atlas.dtype, len(np.unique(atlas))])\n",
        "\n",
        "atlas = np.where(atlas >= 60, 60, atlas)\n",
        "\n",
        "no, el, fc = i2m.v2m(atlas, [], 10, 80, 'cgalmesh')\n",
        "\n",
        "i2m.plotmesh(no, el)"
      ],
      "metadata": {
        "id": "8JzKKCEye_S8"
      },
      "execution_count": null,
      "outputs": []
    },
    {
      "cell_type": "markdown",
      "source": [
        "### Accessing and meshing gray-scale volumes"
      ],
      "metadata": {
        "id": "c8wHnnZuK67u"
      }
    },
    {
      "cell_type": "code",
      "source": [
        "import jdata as jd\n",
        "\n",
        "# load JSON-based volume from NeuroJSON.io\n",
        "brain = jd.loadurl('https://neurojson.io:7777/unc-012-infant-atlas/infant-1yr')\n",
        "\n",
        "atlas = brain['NIFTIData']\n",
        "\n",
        "print([atlas.shape, atlas.dtype, np.max(atlas)])\n",
        "\n",
        "no, fc, _, _ = i2m.v2s(atlas, 50, 5)\n",
        "\n",
        "i2m.plotmesh(no, fc, 'x < 100', alpha=0.6, edgecolor='y', linewidth=0.3, shade=True)\n",
        "\n",
        "node, elem, face = i2m.v2m(atlas, isovalues=50, opt=5, maxvol=40)\n",
        "i2m.plotmesh(node, elem, 'x < 100', linewidth=0.3, shade=True)"
      ],
      "metadata": {
        "id": "5pROonIva0MV"
      },
      "execution_count": null,
      "outputs": []
    }
  ]
}